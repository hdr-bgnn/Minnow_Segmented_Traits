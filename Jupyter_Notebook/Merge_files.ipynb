{
 "cells": [
  {
   "cell_type": "markdown",
   "id": "6bb20a5a",
   "metadata": {},
   "source": [
    "# Merge json file in Table\n",
    "\n",
    "This notebook present some simple tools to combine multiple json file into table (cvs, more json, python matrix...)\n",
    "\n",
    "github : https://github.com/hdr-bgnn/minnowTraits/tree/main/Jupyter_Notebook\n",
    "\n",
    "    1- Import and Generic function\n",
    "        \n",
    "        This is where I put every piece of code use in several place\n",
    "    \n",
    "    2- Precence matrix json to cvs\n",
    "    \n",
    "        Code to merge the presence.json file produce by the snakemake worflow describe here https://github.com/hdr-bgnn/BGNN_Snakemake\n",
    "        The format of the json had to be modify between the json to csv.\n",
    "        json file\n",
    "        {\"dorsal_fin\": {\"number\": 1, \"percentage\": 1.0}, \"adipos_fin\": {\"number\": 0, \"percentage\": 0}, \"caudal_fin\": .....}\n",
    "        to cvs file\n",
    "        \n",
    "        |                  | dorsal_fin_number | dorsal_fin_percentage | adipos_fin_number | adipos_fin_percentage | ....\n",
    "        | ---------------- | ----------------- | --------------------- | ----------------- | --------------------- | ....\n",
    "        | INHS_FISH_62362  |               1.0 |                   1.0 |               0.0 |                   0.0 | ....\n",
    "        | INHS_FISH_99358  |               1.0 |                   1.0 |               1.0 |                   1.0 | ....\n",
    "        | INHS_FISH_103219 |               1.0 |                   1.0 |               0.0 |                   0.0 | ....\n",
    "\n",
    "        \n",
    "    \n",
    "        \n",
    "    \n",
    "\n"
   ]
  },
  {
   "cell_type": "markdown",
   "id": "0f843176",
   "metadata": {},
   "source": [
    "## 1- Import and generic functions"
   ]
  },
  {
   "cell_type": "code",
   "execution_count": 7,
   "id": "d8270ca8",
   "metadata": {},
   "outputs": [],
   "source": [
    "import os\n",
    "from pathlib import Path\n",
    "import json\n",
    "import csv\n",
    "import sys\n",
    "import pandas as pd"
   ]
  },
  {
   "cell_type": "code",
   "execution_count": 8,
   "id": "0a0ad9c4",
   "metadata": {},
   "outputs": [],
   "source": [
    "def get_file_list (input_directory, ext=\".json\"):\n",
    "    '''\n",
    "    Create a list of the absolute path of the files contained in \"input_directory\"\n",
    "    with exetension \"ext\".\n",
    "    '''\n",
    "\n",
    "    extension = '*' + ext\n",
    "    files_list = [str(_) for _ in Path(os.path.abspath(input_directory)).glob(extension)]\n",
    "\n",
    "    return files_list"
   ]
  },
  {
   "cell_type": "markdown",
   "id": "f320b6b4",
   "metadata": {},
   "source": [
    "## 2-  Presence Matrix\n",
    "\n",
    "Function specific to Presence matrix reformat"
   ]
  },
  {
   "cell_type": "code",
   "execution_count": 4,
   "id": "97529f7b",
   "metadata": {},
   "outputs": [],
   "source": [
    "def reformat_presence_json(file_path):\n",
    "    \n",
    "    # extract the base name eg. from '/fs/ess/.../Presence/INHS_FISH_62362_presence.json' to INHS_FISH_62362\n",
    "    file_name = Path(file_path).stem\n",
    "    base_name = file_name.rsplit('_', 1)[0]\n",
    "    \n",
    "    # reformat dorsal_fin : {number:1, percentage:1} to {dorsal_fin_number:1,dorsal_fin_percentage:1}\n",
    "    with open(file_path, 'r') as infile:\n",
    "        temp_dic = json.load(infile)\n",
    "        new_dict={}\n",
    "        for i, (k,v) in enumerate(temp_dic.items()):\n",
    "            for i2, (k2,v2) in  enumerate(v.items()):\n",
    "                new_dict[k + '_'+ k2] = v2\n",
    "    reformat_dict={base_name:new_dict}    \n",
    "    return reformat_dict\n",
    "\n",
    "def convert_cvs_to_dict(cvs_file):\n",
    "    '''\n",
    "    \n",
    "    '''\n",
    "    \n",
    "    df = pd.read_csv ('output.csv')\n",
    "    dict_ = df.set_index('Unnamed: 0').T.to_dict()\n",
    "    \n",
    "    return dict_\n",
    "\n",
    "def merge_Presence_json(path_list, output_csv):\n",
    "    '''\n",
    "    merge the json file from the \"files_list\" and saved the combine result in output_cvs\n",
    "    '''\n",
    "    \n",
    "    # if output file doesn't exit create result, if it does load in result from output\n",
    "    if not os.path.isfile(output_csv):\n",
    "        result = {}\n",
    "    else :\n",
    "        result = convert_cvs_to_dict(output_csv)\n",
    "            \n",
    "    for file_path in path_list:\n",
    "        result = {**result, **reformat_presence_json(file_path)}    \n",
    "\n",
    "    # save as cvs\n",
    "    if output_csv !=None:\n",
    "\n",
    "        df = pd.DataFrame.from_dict(result).T\n",
    "        df.to_csv(output_csv, index=True)\n",
    "\n",
    "def Main_Combine_Presence(input_directory, output_csv=None):\n",
    "\n",
    "    files_list = get_file_list (input_directory, ext=\".json\")\n",
    "    merge_JsonFiles(files_list, output_csv)"
   ]
  },
  {
   "cell_type": "code",
   "execution_count": 5,
   "id": "0659c8d7",
   "metadata": {},
   "outputs": [],
   "source": [
    "input_directory = \"/fs/ess/PAS2136/BGNN/Minnows/Morphology/Presence/\"\n",
    "output_csv = \"output_1.csv\"\n",
    "files_list = get_file_list (input_directory, ext=\".json\")"
   ]
  },
  {
   "cell_type": "code",
   "execution_count": 7,
   "id": "39a9875b",
   "metadata": {},
   "outputs": [],
   "source": [
    "# take the fist \n",
    "sub_list = files_list\n",
    "merge_Presence_json(files_list, output_csv)"
   ]
  },
  {
   "cell_type": "markdown",
   "id": "10f1ad5a",
   "metadata": {},
   "source": [
    "## 3- Merge the measurements results\n",
    "\n",
    "Merge the measurement into dataframe for further analysis"
   ]
  },
  {
   "cell_type": "code",
   "execution_count": 9,
   "id": "61f5d587",
   "metadata": {},
   "outputs": [],
   "source": [
    "input_directory = \"/fs/ess/PAS2136/BGNN/Burress_et_al_2017_minnows/Morphology_0_1_3/Measure/\"\n",
    "output_csv = \"measure_output_0_1_3.csv\"\n"
   ]
  },
  {
   "cell_type": "code",
   "execution_count": 12,
   "id": "acefe9c3",
   "metadata": {},
   "outputs": [],
   "source": [
    "def get_file_list (input_directory, ext=\".json\"):\n",
    "    '''\n",
    "    Create a list of the absolute path of the files contained in \"input_directory\"\n",
    "    with exetension \"ext\".\n",
    "    '''\n",
    "\n",
    "    extension = '*' + ext\n",
    "    files_list = [str(_) for _ in Path(os.path.abspath(input_directory)).glob(extension)]\n",
    "\n",
    "    return files_list\n",
    "\n",
    "def merge_measure_to_df(path_list):\n",
    "    '''\n",
    "    merge the json file from the \"files_list\" to a dataframe\n",
    "    '''    \n",
    "    \n",
    "    result={}\n",
    "    for file_path in files_list:\n",
    "    \n",
    "        with open(file_path, 'r') as infile:\n",
    "            temp_dic = json.load(infile)\n",
    "            # Create a new_dict with key fish_name like INHS_FISH_64828 and value the rest of the dictionnary\n",
    "            new_dic={ temp_dic.pop('base_name'): temp_dic }\n",
    "        \n",
    "        result = {**result, **new_dic}\n",
    "\n",
    "    df = pd.DataFrame.from_dict(result).T\n",
    "    return df"
   ]
  },
  {
   "cell_type": "code",
   "execution_count": 13,
   "id": "aaf7c8e2",
   "metadata": {},
   "outputs": [],
   "source": [
    "files_list = get_file_list (input_directory, ext=\".json\")\n",
    "df = merge_measure_to_df(files_list)"
   ]
  },
  {
   "cell_type": "markdown",
   "id": "76a2bf63",
   "metadata": {},
   "source": [
    "## 4- Convert the measurement from pixel to cm\n",
    "\n",
    "Use the df (dataframe create in the previous section) and correct for the scale (pixel/cm)\n",
    "\n",
    "    1- Clean : remove row contain \"None\" value (case of scale and unit when there were not found in the original image)\n",
    "    2- Correct lenght measurement by dividing by the scale value (pixel/cm) and replace the columns\n",
    "    3- Correct area measurement by dividing by the (scale value)^2 (pixel^2/cm^2) and replace the columns"
   ]
  },
  {
   "cell_type": "code",
   "execution_count": 51,
   "id": "6816cfb1",
   "metadata": {},
   "outputs": [],
   "source": [
    "# remove the row with scale == \"none\"\n",
    "df_clean = df.drop(df[df.scale == 'None'].index)\n",
    "\n",
    "# convert the measurement corresponding to length from pixel to cm \n",
    "length_to_rescale = ['SL_bbox', 'SL_lm', 'HL_bbox', 'HL_lm', 'pOD_bbox', 'pOD_lm', 'ED_bbox', 'ED_lm']\n",
    "for measure in length_to_rescale:\n",
    "    \n",
    "    df_clean[measure]= (df_clean[measure].div(df_clean['scale'])).astype('float').round(2)\n",
    "    \n",
    "# convert the measurement corresponding to area from pixel to cm^2\n",
    "area_to_rescale = ['EA_m', 'HA_m']\n",
    "for measure in area_to_rescale:\n",
    "    \n",
    "    df_clean[measure]= (df_clean[measure].div(df_clean['scale'].pow(2))).astype('float').round(2)\n",
    "    \n",
    "df_rescale = df_clean.copy()"
   ]
  },
  {
   "cell_type": "code",
   "execution_count": null,
   "id": "1cc3b1d0",
   "metadata": {},
   "outputs": [],
   "source": [
    "# display the new dataframe\n",
    "df_rescale"
   ]
  },
  {
   "cell_type": "code",
   "execution_count": 53,
   "id": "5b2622fe",
   "metadata": {},
   "outputs": [],
   "source": [
    "# save the resulting dataframe in a csv un the name output_csv\n",
    "output_csv = \"/fs/ess/PAS2136/BGNN/Burress_et_al_2017_minnows/measure_output_0_1_3_rescale.csv\"\n",
    "df_rescale.to_csv(output_csv, index=True)"
   ]
  }
 ],
 "metadata": {
  "kernelspec": {
   "display_name": "Python (Morphology_env)",
   "language": "python",
   "name": "snakemake"
  },
  "language_info": {
   "codemirror_mode": {
    "name": "ipython",
    "version": 3
   },
   "file_extension": ".py",
   "mimetype": "text/x-python",
   "name": "python",
   "nbconvert_exporter": "python",
   "pygments_lexer": "ipython3",
   "version": "3.8.13"
  }
 },
 "nbformat": 4,
 "nbformat_minor": 5
}
